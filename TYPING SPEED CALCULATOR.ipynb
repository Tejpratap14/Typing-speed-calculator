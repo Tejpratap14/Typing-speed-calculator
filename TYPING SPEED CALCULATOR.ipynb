{
 "cells": [
  {
   "cell_type": "code",
   "execution_count": 2,
   "id": "d793779f",
   "metadata": {},
   "outputs": [],
   "source": [
    "import time\n",
    "import random"
   ]
  },
  {
   "cell_type": "code",
   "execution_count": 7,
   "id": "1a5418c6",
   "metadata": {},
   "outputs": [
    {
     "data": {
      "text/plain": [
       "'Three mistakes of my life'"
      ]
     },
     "execution_count": 7,
     "metadata": {},
     "output_type": "execute_result"
    }
   ],
   "source": [
    "strings =[\"Three mistakes of my life\", \"hands on ml\",\"speed is everything\"]\n",
    "random_index =random.randint(0,len(strings)-1)\n",
    "strings[random_index]"
   ]
  },
  {
   "cell_type": "code",
   "execution_count": 8,
   "id": "c30ece67",
   "metadata": {},
   "outputs": [
    {
     "name": "stdout",
     "output_type": "stream",
     "text": [
      "Three mistakes of my life\n",
      "5\n"
     ]
    }
   ],
   "source": [
    "string =strings[random_index]\n",
    "print(string)\n",
    "word_count = len(string.split())\n",
    "print(word_count)"
   ]
  },
  {
   "cell_type": "code",
   "execution_count": 9,
   "id": "221048b5",
   "metadata": {},
   "outputs": [
    {
     "data": {
      "text/plain": [
       "3"
      ]
     },
     "execution_count": 9,
     "metadata": {},
     "output_type": "execute_result"
    }
   ],
   "source": [
    "len(strings)"
   ]
  },
  {
   "cell_type": "code",
   "execution_count": 14,
   "id": "b4124b70",
   "metadata": {},
   "outputs": [
    {
     "name": "stdout",
     "output_type": "stream",
     "text": [
      "speed is everything\n",
      "Write the sentence: speed is everything\n",
      "WPS: 0.28736278433853424 Accuracy: 100.0 Time taken 10.439765214920044 \n",
      "\n",
      "\n",
      "Three mistakes of my life\n",
      "Write the sentence: Three mistakes of my life\n",
      "WPS: 0.37519607359736395 Accuracy: 100.0 Time taken 13.32636547088623 \n",
      "\n",
      "\n",
      "Three mistakes of my life\n",
      "Write the sentence: three\n",
      "WPS: 0.2536676111602611 Accuracy: 0.0 Time taken 19.710833311080933 \n",
      "\n",
      "\n",
      "Three mistakes of my life\n",
      "Write the sentence: Three mistakes of my life\n",
      "WPS: 0.05005004606048496 Accuracy: 100.0 Time taken 99.90000796318054 \n",
      "\n",
      "\n",
      "hands on ml\n",
      "Write the sentence: 0\n",
      "Take care\n"
     ]
    }
   ],
   "source": [
    "while True:\n",
    "    random_index =random.randint(0,len(strings)-1)\n",
    "    string =strings[random_index]\n",
    "    word_count = len(string.split())\n",
    "    print(string)\n",
    "    t0 =time.time()\n",
    "    input_text =str(input('Write the sentence: '))\n",
    "    t1 =time.time()\n",
    "    \n",
    "    if input_text == '0':\n",
    "        print(\"Take care\")\n",
    "        break\n",
    "        \n",
    "    correct_words =len(set(input_text.split())&set(string.split()))\n",
    "    accuracy =correct_words/word_count\n",
    "    time_taken =t1-t0\n",
    "    wps =word_count/time_taken\n",
    "    print('WPS:',wps,\"Accuracy:\", accuracy *100, \"Time taken\",time_taken,'\\n\\n')\n",
    "    "
   ]
  },
  {
   "cell_type": "code",
   "execution_count": null,
   "id": "c9063c89",
   "metadata": {},
   "outputs": [],
   "source": []
  }
 ],
 "metadata": {
  "kernelspec": {
   "display_name": "Python 3 (ipykernel)",
   "language": "python",
   "name": "python3"
  },
  "language_info": {
   "codemirror_mode": {
    "name": "ipython",
    "version": 3
   },
   "file_extension": ".py",
   "mimetype": "text/x-python",
   "name": "python",
   "nbconvert_exporter": "python",
   "pygments_lexer": "ipython3",
   "version": "3.9.7"
  }
 },
 "nbformat": 4,
 "nbformat_minor": 5
}
